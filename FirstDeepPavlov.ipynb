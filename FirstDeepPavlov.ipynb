{
 "cells": [
  {
   "cell_type": "code",
   "execution_count": 1,
   "id": "baa82ac7-6b77-4662-8e49-bce03ddd14ee",
   "metadata": {
    "tags": []
   },
   "outputs": [],
   "source": [
    "from deeppavlov import build_model"
   ]
  },
  {
   "cell_type": "code",
   "execution_count": 2,
   "id": "f10ffa6e-2864-4304-b798-49abff6085bf",
   "metadata": {
    "tags": []
   },
   "outputs": [
    {
     "name": "stderr",
     "output_type": "stream",
     "text": [
      "2023-10-16 22:42:56.328 INFO in 'deeppavlov.core.data.utils'['utils'] at line 95: Downloading from http://files.deeppavlov.ai/v1/ner/ner_ontonotes_bert_mult_torch_crf.tar.gz to C:\\Users\\yarik\\.deeppavlov\\models\\ner_ontonotes_bert_mult_torch_crf.tar.gz\n",
      "100%|██████████████████████████████████████████████████████████████████████████████████████████████████████████████████████████████████████████████████████████| 1.39G/1.39G [14:58<00:00, 1.54MB/s]\n",
      "2023-10-16 22:57:59.181 INFO in 'deeppavlov.core.data.utils'['utils'] at line 276: Extracting C:\\Users\\yarik\\.deeppavlov\\models\\ner_ontonotes_bert_mult_torch_crf.tar.gz archive into C:\\Users\\yarik\\.deeppavlov\\models\\ner_ontonotes_torch_bert_mult_crf\n",
      "C:\\Users\\yarik\\anaconda3\\envs\\ForDeepPavlov\\lib\\site-packages\\tqdm\\auto.py:22: TqdmWarning: IProgress not found. Please update jupyter and ipywidgets. See https://ipywidgets.readthedocs.io/en/stable/user_install.html\n",
      "  from .autonotebook import tqdm as notebook_tqdm\n",
      "Downloading (…)okenizer_config.json: 100%|███████████████████████████████████████████████████████████████████████████████████████████████████████████████████████| 29.0/29.0 [00:00<00:00, 9.66kB/s]\n",
      "Downloading (…)lve/main/config.json: 100%|██████████████████████████████████████████████████████████████████████████████████████████████████████████████████████████| 625/625 [00:00<00:00, 208kB/s]\n",
      "Downloading (…)solve/main/vocab.txt: 100%|███████████████████████████████████████████████████████████████████████████████████████████████████████████████████████| 996k/996k [00:00<00:00, 1.39MB/s]\n",
      "Downloading (…)/main/tokenizer.json: 100%|█████████████████████████████████████████████████████████████████████████████████████████████████████████████████████| 1.96M/1.96M [00:01<00:00, 1.39MB/s]\n",
      "Downloading pytorch_model.bin: 100%|█████████████████████████████████████████████████████████████████████████████████████████████████████████████████████████████| 714M/714M [01:59<00:00, 5.95MB/s]\n",
      "Some weights of the model checkpoint at bert-base-multilingual-cased were not used when initializing BertForTokenClassification: ['cls.predictions.bias', 'cls.seq_relationship.bias', 'cls.predictions.decoder.weight', 'cls.predictions.transform.dense.weight', 'cls.seq_relationship.weight', 'cls.predictions.transform.LayerNorm.weight', 'cls.predictions.transform.LayerNorm.bias', 'cls.predictions.transform.dense.bias']\n",
      "- This IS expected if you are initializing BertForTokenClassification from the checkpoint of a model trained on another task or with another architecture (e.g. initializing a BertForSequenceClassification model from a BertForPreTraining model).\n",
      "- This IS NOT expected if you are initializing BertForTokenClassification from the checkpoint of a model that you expect to be exactly identical (initializing a BertForSequenceClassification model from a BertForSequenceClassification model).\n",
      "Some weights of BertForTokenClassification were not initialized from the model checkpoint at bert-base-multilingual-cased and are newly initialized: ['classifier.bias', 'classifier.weight']\n",
      "You should probably TRAIN this model on a down-stream task to be able to use it for predictions and inference.\n",
      "2023-10-16 23:00:27.442 WARNING in 'deeppavlov.core.models.torch_model'['torch_model'] at line 96: Unable to place component TorchTransformersSequenceTagger on GPU, since no CUDA GPUs are available. Using CPU.\n"
     ]
    }
   ],
   "source": [
    "model = build_model('ner_ontonotes_bert_mult', install=True, download=True)"
   ]
  },
  {
   "cell_type": "code",
   "execution_count": 3,
   "id": "2fba4ab1-1c60-4aa7-8416-06f63eac92ce",
   "metadata": {
    "tags": []
   },
   "outputs": [
    {
     "name": "stderr",
     "output_type": "stream",
     "text": [
      "C:\\Users\\yarik\\anaconda3\\envs\\ForDeepPavlov\\lib\\site-packages\\torchcrf\\__init__.py:305: UserWarning: where received a uint8 condition tensor. This behavior is deprecated and will be removed in a future version of PyTorch. Use a boolean condition instead. (Triggered internally at C:\\actions-runner\\_work\\pytorch\\pytorch\\builder\\windows\\pytorch\\aten\\src\\ATen\\native\\TensorCompare.cpp:413.)\n",
      "  score = torch.where(mask[i].unsqueeze(1), next_score, score)\n"
     ]
    },
    {
     "data": {
      "text/plain": [
       "[[['А',\n",
       "   '.',\n",
       "   'С',\n",
       "   '.',\n",
       "   'Пушкин',\n",
       "   'родился',\n",
       "   '6',\n",
       "   'июня',\n",
       "   '1799',\n",
       "   'года',\n",
       "   'в',\n",
       "   'Москве',\n",
       "   'и',\n",
       "   'происходил',\n",
       "   'из',\n",
       "   'старинного',\n",
       "   'нетитулованного',\n",
       "   'дворянского',\n",
       "   'рода',\n",
       "   '.'],\n",
       "  ['В',\n",
       "   '1831',\n",
       "   'г',\n",
       "   '.',\n",
       "   'Пушкин',\n",
       "   'обвенчался',\n",
       "   'с',\n",
       "   'Натальей',\n",
       "   'Гончаровой',\n",
       "   ',',\n",
       "   'с',\n",
       "   'которой',\n",
       "   'впоследствии',\n",
       "   'у',\n",
       "   'них',\n",
       "   'было',\n",
       "   'четверо',\n",
       "   'детей',\n",
       "   '.']],\n",
       " [['B-PERSON',\n",
       "   'B-PERSON',\n",
       "   'I-PERSON',\n",
       "   'I-PERSON',\n",
       "   'I-PERSON',\n",
       "   'O',\n",
       "   'B-DATE',\n",
       "   'I-DATE',\n",
       "   'I-DATE',\n",
       "   'I-DATE',\n",
       "   'O',\n",
       "   'B-GPE',\n",
       "   'O',\n",
       "   'O',\n",
       "   'O',\n",
       "   'O',\n",
       "   'O',\n",
       "   'O',\n",
       "   'O',\n",
       "   'O'],\n",
       "  ['O',\n",
       "   'B-DATE',\n",
       "   'I-DATE',\n",
       "   'I-DATE',\n",
       "   'B-PERSON',\n",
       "   'O',\n",
       "   'O',\n",
       "   'B-PERSON',\n",
       "   'I-PERSON',\n",
       "   'O',\n",
       "   'O',\n",
       "   'O',\n",
       "   'O',\n",
       "   'O',\n",
       "   'O',\n",
       "   'O',\n",
       "   'B-CARDINAL',\n",
       "   'O',\n",
       "   'O']]]"
      ]
     },
     "execution_count": 3,
     "metadata": {},
     "output_type": "execute_result"
    }
   ],
   "source": [
    "# get predictions for 'input_text1', 'input_text2'\n",
    "model(['А. С. Пушкин родился 6 июня 1799 года в Москве и происходил из старинного нетитулованного дворянского рода.', 'В 1831 г. Пушкин обвенчался с Натальей Гончаровой, с которой впоследствии у них было четверо детей.'])"
   ]
  },
  {
   "cell_type": "code",
   "execution_count": null,
   "id": "011bb57d-3ee2-4e7f-9995-d5bb2d053b9e",
   "metadata": {},
   "outputs": [],
   "source": []
  }
 ],
 "metadata": {
  "kernelspec": {
   "display_name": "Python 3 (ipykernel)",
   "language": "python",
   "name": "python3"
  },
  "language_info": {
   "codemirror_mode": {
    "name": "ipython",
    "version": 3
   },
   "file_extension": ".py",
   "mimetype": "text/x-python",
   "name": "python",
   "nbconvert_exporter": "python",
   "pygments_lexer": "ipython3",
   "version": "3.7.16"
  }
 },
 "nbformat": 4,
 "nbformat_minor": 5
}
